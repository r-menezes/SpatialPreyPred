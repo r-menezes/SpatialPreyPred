{
 "cells": [
  {
   "cell_type": "code",
   "execution_count": 6,
   "metadata": {},
   "outputs": [
    {
     "name": "stdout",
     "output_type": "stream",
     "text": [
      "10\n",
      "R: 91\n",
      "C: 99\n",
      "20\n",
      "R: 81\n",
      "C: 99\n",
      "30\n",
      "R: 72\n",
      "C: 98\n",
      "40\n",
      "R: 67\n",
      "C: 97\n",
      "50\n",
      "R: 62\n",
      "C: 96\n",
      "60\n",
      "R: 52\n",
      "C: 96\n",
      "70\n",
      "R: 43\n",
      "C: 95\n",
      "80\n",
      "R: 38\n",
      "C: 92\n",
      "90\n",
      "R: 34\n",
      "C: 88\n",
      "100\n",
      "R: 28\n",
      "C: 86\n",
      "110\n",
      "R: 22\n",
      "C: 84\n",
      "120\n",
      "R: 22\n",
      "C: 78\n",
      "130\n",
      "R: 19\n",
      "C: 73\n",
      "140\n",
      "R: 19\n",
      "C: 67\n",
      "150\n",
      "R: 20\n",
      "C: 62\n",
      "160\n",
      "R: 14\n",
      "C: 60\n",
      "170\n",
      "R: 12\n",
      "C: 54\n",
      "180\n",
      "R: 13\n",
      "C: 45\n",
      "190\n",
      "R: 12\n",
      "C: 38\n",
      "200\n",
      "R: 9\n",
      "C: 31\n",
      "210\n",
      "R: 10\n",
      "C: 28\n",
      "220\n",
      "R: 8\n",
      "C: 24\n",
      "230\n",
      "R: 9\n",
      "C: 19\n",
      "240\n",
      "R: 9\n",
      "C: 13\n",
      "250\n",
      "R: 8\n",
      "C: 10\n",
      "260\n",
      "R: 7\n",
      "C: 8\n",
      "270\n",
      "R: 10\n",
      "C: 3\n",
      "280\n",
      "R: 13\n",
      "C: 2\n",
      "290\n",
      "R: 13\n",
      "C: 2\n",
      "300\n",
      "R: 11\n",
      "C: 2\n",
      "310\n",
      "R: 13\n",
      "C: 2\n",
      "320\n",
      "R: 10\n",
      "C: 1\n",
      "330\n",
      "R: 6\n",
      "C: 1\n",
      "340\n",
      "R: 10\n",
      "C: 1\n"
     ]
    },
    {
     "data": {
      "text/plain": [
       "{'finalTime': 0.8667369405830444,\n",
       " 'id': 'e1b55519-eee2-428e-a8bd-122ce8d608ed',\n",
       " 'steps': 346,\n",
       " 'aveNr': 210,\n",
       " 'aveNc': 0.0,\n",
       " 'preyGrowthRate': 8,\n",
       " 'PredationCoefficient': 0.01,\n",
       " 'ConversionEfficiency': 0.1,\n",
       " 'PredatorDeathRate': 8,\n",
       " 'interDistance': <function __main__.comp_kernel(dist, sigmaq=0.02)>,\n",
       " 'envSize': 1.0,\n",
       " 'cause': 'prey-release',\n",
       " 'Rcenters': array([[1.00475948e-17, 1.00475948e-17],\n",
       "        [1.96068941e-12, 9.38515873e-06],\n",
       "        [9.15494309e-01, 9.15494309e-01],\n",
       "        [9.15494309e-01, 9.15494239e-01],\n",
       "        [1.00475948e-17, 1.00475948e-17],\n",
       "        [9.15494309e-01, 9.15494309e-01],\n",
       "        [1.00475948e-17, 1.00476593e-17],\n",
       "        [1.00475948e-17, 1.00475948e-17],\n",
       "        [9.15494309e-01, 9.15494309e-01],\n",
       "        [1.00475948e-17, 1.00475948e-17],\n",
       "        [1.00475948e-17, 1.00475948e-17],\n",
       "        [1.00475948e-17, 1.00476593e-17],\n",
       "        [9.15494309e-01, 9.15494309e-01]]),\n",
       " 'Rpositions': array([[0.68209209, 0.18634236],\n",
       "        [0.92122675, 0.66330494],\n",
       "        [0.10963716, 0.76724404],\n",
       "        [0.65560309, 0.42653634],\n",
       "        [0.07403368, 0.1661194 ],\n",
       "        [0.92657395, 0.98062459],\n",
       "        [0.16334203, 0.86746786],\n",
       "        [0.1734156 , 0.82196693],\n",
       "        [0.40317457, 0.77731647],\n",
       "        [0.738427  , 0.64852033],\n",
       "        [0.94143261, 0.35857577],\n",
       "        [0.7355097 , 0.7402423 ],\n",
       "        [0.17793307, 0.49774652]]),\n",
       " 'Ccenters': array([], shape=(0, 2), dtype=float64),\n",
       " 'Cpositions': array([], shape=(0, 2), dtype=float64),\n",
       " 'MeanFieldR': 210.0,\n",
       " 'MeanFieldC': 0.0,\n",
       " 'temporalData':            t  events     Nr     Nc  R_births  R_deaths  C_births  C_deaths  \\\n",
       " 0   0.000000     0.0  100.0  100.0       0.0       0.0       0.0       0.0   \n",
       " 1   0.001091    10.0   91.0   99.0       0.0       9.0       0.0       1.0   \n",
       " 2   0.001881    20.0   81.0   99.0       0.0      10.0       0.0       0.0   \n",
       " 3   0.003214    30.0   72.0   98.0       0.0       9.0       0.0       1.0   \n",
       " 4   0.006073    40.0   67.0   97.0       2.0       7.0       0.0       1.0   \n",
       " 5   0.007606    50.0   62.0   96.0       2.0       7.0       0.0       1.0   \n",
       " 6   0.009463    60.0   52.0   96.0       0.0      10.0       0.0       0.0   \n",
       " 7   0.012975    70.0   43.0   95.0       0.0       9.0       0.0       1.0   \n",
       " 8   0.016857    80.0   38.0   92.0       1.0       6.0       0.0       3.0   \n",
       " 9   0.020666    90.0   34.0   88.0       1.0       5.0       0.0       4.0   \n",
       " 10  0.027144   100.0   28.0   86.0       1.0       7.0       0.0       2.0   \n",
       " 11  0.034487   110.0   22.0   84.0       1.0       7.0       0.0       2.0   \n",
       " 12  0.042007   120.0   22.0   78.0       2.0       2.0       0.0       6.0   \n",
       " 13  0.046764   130.0   19.0   73.0       1.0       4.0       0.0       5.0   \n",
       " 14  0.062769   140.0   19.0   67.0       2.0       2.0       0.0       6.0   \n",
       " 15  0.068067   150.0   20.0   62.0       3.0       2.0       0.0       5.0   \n",
       " 16  0.080521   160.0   14.0   60.0       1.0       7.0       0.0       2.0   \n",
       " 17  0.097313   170.0   12.0   54.0       1.0       3.0       0.0       6.0   \n",
       " 18  0.105478   180.0   13.0   45.0       1.0       0.0       0.0       9.0   \n",
       " 19  0.119100   190.0   12.0   38.0       1.0       2.0       0.0       7.0   \n",
       " 20  0.136960   200.0    9.0   31.0       0.0       3.0       0.0       7.0   \n",
       " 21  0.153321   210.0   10.0   28.0       4.0       3.0       0.0       3.0   \n",
       " 22  0.170269   220.0    8.0   24.0       2.0       4.0       0.0       4.0   \n",
       " 23  0.185430   230.0    9.0   19.0       3.0       2.0       0.0       5.0   \n",
       " 24  0.233589   240.0    9.0   13.0       2.0       2.0       0.0       6.0   \n",
       " 25  0.301985   250.0    8.0   10.0       3.0       4.0       0.0       3.0   \n",
       " 26  0.397439   260.0    7.0    8.0       3.0       4.0       1.0       3.0   \n",
       " 27  0.440047   270.0   10.0    3.0       4.0       1.0       0.0       5.0   \n",
       " 28  0.491801   280.0   13.0    2.0       6.0       3.0       0.0       1.0   \n",
       " 29  0.535207   290.0   13.0    2.0       5.0       5.0       0.0       0.0   \n",
       " 30  0.580707   300.0   11.0    2.0       4.0       6.0       0.0       0.0   \n",
       " 31  0.624695   310.0   13.0    2.0       6.0       4.0       0.0       0.0   \n",
       " 32  0.664634   320.0   10.0    1.0       3.0       6.0       0.0       1.0   \n",
       " 33  0.710884   330.0    6.0    1.0       3.0       7.0       0.0       0.0   \n",
       " 34  0.852609   340.0   10.0    1.0       7.0       3.0       0.0       0.0   \n",
       " \n",
       "     competitions  predations  \n",
       " 0            0.0         0.0  \n",
       " 1            9.0         0.0  \n",
       " 2            9.0         1.0  \n",
       " 3            9.0         0.0  \n",
       " 4            6.0         1.0  \n",
       " 5            7.0         0.0  \n",
       " 6           10.0         0.0  \n",
       " 7            8.0         1.0  \n",
       " 8            6.0         0.0  \n",
       " 9            4.0         1.0  \n",
       " 10           5.0         2.0  \n",
       " 11           6.0         1.0  \n",
       " 12           2.0         0.0  \n",
       " 13           3.0         1.0  \n",
       " 14           2.0         0.0  \n",
       " 15           1.0         1.0  \n",
       " 16           7.0         0.0  \n",
       " 17           2.0         1.0  \n",
       " 18           0.0         0.0  \n",
       " 19           2.0         0.0  \n",
       " 20           3.0         0.0  \n",
       " 21           3.0         0.0  \n",
       " 22           3.0         1.0  \n",
       " 23           2.0         0.0  \n",
       " 24           2.0         0.0  \n",
       " 25           4.0         0.0  \n",
       " 26           2.0         2.0  \n",
       " 27           1.0         0.0  \n",
       " 28           3.0         0.0  \n",
       " 29           5.0         0.0  \n",
       " 30           6.0         0.0  \n",
       " 31           4.0         0.0  \n",
       " 32           6.0         0.0  \n",
       " 33           7.0         0.0  \n",
       " 34           3.0         0.0  }"
      ]
     },
     "execution_count": 6,
     "metadata": {},
     "output_type": "execute_result"
    }
   ],
   "source": [
    "from gillespie_OU import *\n",
    "\"\"\"\n",
    "    Nresource, # number of resources\n",
    "    Nconsumer, # number of consumers\n",
    "    R_birth_rate, # birth rate of resources\n",
    "    C_death_rate, # death rate of consumers\n",
    "    C_conversion_efficiency, # conversion efficiency of consumers\n",
    "    pred_kernel, # predation kernel\n",
    "    pred_max_dist, # maximum distance for predation\n",
    "    pred_rate, # predation rate\n",
    "    comp_kernel, # competition kernel\n",
    "    comp_max_dist, # maximum distance for competition\n",
    "    R_MF_carrCap, # carrying capacity of resources\n",
    "    R_mover_class, # class of the resource mover\n",
    "    R_asymptotic_pos_dist, # asymptotic movement of resources\n",
    "    C_mover_class, # class of the consumer mover\n",
    "    C_asymptotic_pos_dist, # asymptotic movement of consumers\n",
    "    init_centers_dist, # initial distribution of the centers of resources and consumers\n",
    "                        # it can be 'random', 'origin' or a predetermined array of centers with R and C centers at [0] and [1] respectively\n",
    "    dispersal_kernel, # dispersal kernel\n",
    "    data_interval=50, # interval at which data is stored\n",
    "    env_size=1., # size of the environment\n",
    "    seed=34567, # seed for the random number generator\n",
    "    rng=None, # random number generator\n",
    "    id=None, # an unique id for the environment\n",
    "\"\"\"\n",
    "\n",
    "Nresource = 100\n",
    "Nconsumer = 100\n",
    "R_birth_rate = 8#2.\n",
    "C_death_rate = 8#0.2\n",
    "C_conversion_efficiency = 0.1\n",
    "pred_max_dist = 0.06 # 3x the encounter radius\n",
    "pred_rate = 0.01\n",
    "comp_max_dist = 0.15 # 3x the encounter radius\n",
    "R_MF_carrCap = 210 # critical carrying capacity is 200\n",
    "init_centers_dist = 'random'\n",
    "data_interval = 50\n",
    "env_size = 1.\n",
    "seed = 34567\n",
    "rng = None\n",
    "\n",
    "# the predation kernel is a bivariate Gaussian centered at zero\n",
    "# dist is a vector of distances between the resource and the consumer\n",
    "def pred_kernel(dist, sigmaq=0.02):\n",
    "    # gaussian kernel\n",
    "    sigmaq_sq = sigmaq*sigmaq\n",
    "    return np.exp(-dist*dist/(2*sigmaq_sq))/(2*np.pi*sigmaq_sq)\n",
    "\n",
    "# the predation kernel is a bivariate Gaussian centered at zero\n",
    "# dist is a vector of distances between the resource and the consumer\n",
    "def comp_kernel(dist, sigmaq=0.02):\n",
    "    # gaussian kernel\n",
    "    sigmaq_sq = sigmaq*sigmaq\n",
    "    return np.exp(-dist*dist/(2*sigmaq_sq))/(2*np.pi*sigmaq_sq)\n",
    "\n",
    "# pred_kernel = 'uniform'\n",
    "# comp_kernel = 'uniform'\n",
    "class R_OU(milshtein_OU_N_2D):\n",
    "    def __init__(self, centers, pos, rng, tau=.1, sigma=.3, h=1e-4, env_size=1.):\n",
    "        N = len(centers)\n",
    "        super().__init__(rng=rng, x0=pos, tau=tau, center=centers, sigma=sigma, h=h, N=N, env_size=env_size)\n",
    "\n",
    "R_mover_class = R_OU\n",
    "\n",
    "def R_asymptotic_position(pos, rng, sigmar=.3):\n",
    "    # gaussian kernel\n",
    "    return rng.normal(loc=pos, scale=0.3, size=pos.shape)\n",
    "\n",
    "R_asymptotic_pos_dist = R_asymptotic_position\n",
    "\n",
    "class C_OU(milshtein_OU_N_2D):\n",
    "    def __init__(self, centers, pos, rng, tau=.1, sigma=.5, h=1e-4, env_size=1.):\n",
    "        N = len(centers)\n",
    "        super().__init__(rng=rng, x0=pos, tau=tau, center=centers, sigma=sigma, h=h, N=N, env_size=env_size)\n",
    "\n",
    "C_mover_class = C_OU\n",
    "\n",
    "def C_asymptotic_position(pos, rng, sigmar=.5):\n",
    "    # gaussian kernel\n",
    "    return rng.normal(loc=pos, scale=0.3, size=pos.shape)\n",
    "\n",
    "C_asymptotic_pos_dist = C_asymptotic_position\n",
    "\n",
    "def disp_kernel(dist, sigmar=0.1):\n",
    "    # gaussian kernel\n",
    "    sigmaq_sq = sigmar*sigmar\n",
    "    return np.exp(-dist*dist/(2*sigmaq_sq))/(2*np.pi*sigmaq_sq)\n",
    "\n",
    "dispersal_kernel = disp_kernel\n",
    "\n",
    "env = Environment(Nresource = Nresource,\n",
    "            Nconsumer = Nconsumer,\n",
    "            R_birth_rate = R_birth_rate,\n",
    "            C_death_rate = C_death_rate,\n",
    "            C_conversion_efficiency = C_conversion_efficiency,\n",
    "            pred_kernel = pred_kernel,\n",
    "            pred_max_dist = pred_max_dist,\n",
    "            pred_rate = pred_rate,\n",
    "            comp_kernel = comp_kernel,\n",
    "            comp_max_dist = comp_max_dist,\n",
    "            R_MF_carrCap = R_MF_carrCap,\n",
    "            R_mover_class = R_mover_class,\n",
    "            R_asymptotic_pos_dist = R_asymptotic_pos_dist,\n",
    "            C_mover_class = C_mover_class,\n",
    "            C_asymptotic_pos_dist = C_asymptotic_pos_dist,\n",
    "            init_centers_dist = init_centers_dist,\n",
    "            dispersal_kernel = dispersal_kernel,\n",
    "            data_interval = 10,\n",
    "            env_size = env_size,\n",
    "            seed = seed+4,\n",
    "            rng = None,\n",
    "            id = None)\n",
    "\n",
    "env.run(50*30)"
   ]
  },
  {
   "cell_type": "code",
   "execution_count": null,
   "metadata": {},
   "outputs": [],
   "source": [
    "import numpy as np\n",
    "\n",
    "rng = np.random.default_rng()"
   ]
  },
  {
   "cell_type": "code",
   "execution_count": null,
   "metadata": {},
   "outputs": [],
   "source": [
    "aux = {1: 2, 3: 4, 4:6}"
   ]
  },
  {
   "cell_type": "code",
   "execution_count": null,
   "metadata": {},
   "outputs": [],
   "source": [
    "print(aux)\n",
    "del aux[3]\n",
    "print(aux)"
   ]
  },
  {
   "cell_type": "code",
   "execution_count": null,
   "metadata": {},
   "outputs": [],
   "source": [
    "arr2d = rng.random((20,2))\n",
    "b = arr2d.copy()\n"
   ]
  },
  {
   "cell_type": "code",
   "execution_count": null,
   "metadata": {},
   "outputs": [],
   "source": [
    "%%timeit\n",
    "for a in arr2d:\n",
    "    if any(a > .7):\n",
    "        a = a % .7\n"
   ]
  },
  {
   "cell_type": "code",
   "execution_count": null,
   "metadata": {},
   "outputs": [],
   "source": [
    "%%timeit\n",
    "for a in arr2d:\n",
    "    a = a % .7\n"
   ]
  },
  {
   "cell_type": "code",
   "execution_count": null,
   "metadata": {},
   "outputs": [],
   "source": [
    "class environment():\n",
    "    def __init__(self, Nagents, inter_distance, birth_rate, taus, g_sqrts, centers, dispersal_kernel, data_interval=1., h=1e-3, env_size=1e2, seed=34567, rng=None):\n",
    "        \n",
    "        # Setup random number generator\n",
    "        if rng is None:\n",
    "            self.rng = np.random.default_rng(seed)\n",
    "        else:\n",
    "            self.rng = rng\n",
    "\n",
    "        # Environment properties\n",
    "        self.env_size = env_size\n",
    "        self.h = h\n",
    "        self.t = 0.\n",
    "\n",
    "        # Number, interactions\n",
    "        self.N = Nagents\n",
    "        self.birth_rate = birth_rate\n",
    "        self.interaction_distance = inter_distance\n",
    "        self.interaction_rate = 1./(np.pi*inter_distance*inter_distance)\n",
    "\n",
    "        # Dispersal kernel\n",
    "        # assume a gaussian dispersal kernel with stdev dispersal_kernel\n",
    "        self.dispersal_kernel = dispersal_kernel\n",
    "\n",
    "        # Position\n",
    "        if centers == 'random':\n",
    "            self.centers = self.rng.uniform(high=env_size, size=(self.N, 2))\n",
    "        else:\n",
    "            self.centers = centers\n",
    "        self.x = self.centers\n",
    "        # interaction-related\n",
    "        self.positions_tree = KDTree(self.centers, compact_nodes=False, balanced_tree=False)\n",
    "        self.possible_interacting_pairs = None\n",
    "        self.n_interacting_pairs = None\n",
    "        \n",
    "        # Stochastic properties\n",
    "        self.taus = taus\n",
    "        self.g_sqrts = g_sqrts\n",
    "\n",
    "        # OU_movement generator\n",
    "        self.OU_mover = milshtein_OU_N_2D(rng=self.rng, x0=self.x, tau=self.taus, center=self.centers, g_sqrt=self.g_sqrts, h=self.h, N=self.N)\n",
    "\n",
    "        # Gillespie variables\n",
    "        self.total_rate = 0.\n",
    "        self.total_birth_rate = 0.\n",
    "        self.total_interaction_rate = 0.\n",
    "\n",
    "        # Stored data\n",
    "        self.data = []\n",
    "        self.data_interval = data_interval\n",
    "        self.n_stored_data = 0\n",
    "\n",
    "    def run(self, total_time):\n",
    "        self.t = 0.\n",
    "        while self.t < total_time:\n",
    "            self.gillespie_step()\n",
    "            if self.t > self.data_interval*self.n_stored_data:\n",
    "                self.data.append(self.store_data())\n",
    "                print(f\"N = {self.N} | time: {self.t:.0e} = {self.t/total_time:.1%}\")\n",
    "                self.n_stored_data += 1\n",
    "        print(\"Job's done!\")\n",
    "        \n",
    "\n",
    "    def gillespie_step(self):\n",
    "        # calculate all possible interaction rates\n",
    "        self.calculate_rates()\n",
    "\n",
    "        # calculate residence time\n",
    "        delta_t = rng.exponential(scale=1/self.total_rate)\n",
    "\n",
    "        # choose process\n",
    "        probabilites = np.array([self.total_birth_rate, self.total_interaction_rate])\n",
    "        probabilites = probabilites/np.sum(probabilites)\n",
    "        isbirth = rng.choice([True, False], p=probabilites)\n",
    "\n",
    "        # implement birth\n",
    "        if isbirth:\n",
    "            # choose randomly which individual gave birth\n",
    "            repr_id = rng.integers(self.N)\n",
    "            # update birth\n",
    "            self.update_birth(repr_id=repr_id)\n",
    "\n",
    "        # implement interaction (death)\n",
    "        else:\n",
    "            # choose randomly which pair interacted\n",
    "            interacting_pair = self.possible_interacting_pairs[rng.integers(self.n_interacting_pairs)]\n",
    "            # choose randomly which individual of the pair died\n",
    "            dead_id = rng.choice(interacting_pair)\n",
    "            # update death\n",
    "            self.update_death(dead_id=dead_id)\n",
    "\n",
    "        # move everyone\n",
    "        self.move(delta_t=delta_t)\n",
    "\n",
    "        # update time\n",
    "        self.t += delta_t\n",
    "\n",
    "    def calculate_rates(self):\n",
    "        # total birth rate\n",
    "        self.total_birth_rate = self.birth_rate * self.N\n",
    "\n",
    "        # total interaction rate\n",
    "        self.calc_interaction_pairs()\n",
    "        self.total_interaction_rate = self.interaction_rate * self.n_interacting_pairs\n",
    "\n",
    "        # total rate\n",
    "        self.total_rate = self.total_interaction_rate + self.total_birth_rate\n",
    "\n",
    "    def update_birth(self, repr_id):\n",
    "        # disperse center of new individual\n",
    "        new_center = rng.normal(loc=self.x[repr_id], scale=self.dispersal_kernel, size=2)[np.newaxis,:]\n",
    "\n",
    "        # update positions, centers and number of individuals\n",
    "        self.x = np.concatenate((self.x, new_center), axis=0)\n",
    "        self.centers = np.concatenate((self.centers, new_center), axis=0)\n",
    "        self.N += 1\n",
    "\n",
    "        # update the 'mover'\n",
    "        self.OU_mover = milshtein_OU_N_2D(rng=self.rng, x0=self.x, tau=self.taus, center=self.centers, g_sqrt=self.g_sqrts, h=self.h, N=self.N)\n",
    "\n",
    "    def update_death(self, dead_id):\n",
    "        # update positions, centers and number of individuals\n",
    "        self.x = np.delete(self.x, dead_id, axis=0)\n",
    "        self.centers = np.delete(self.centers, dead_id, axis=0)\n",
    "        self.N -= 1\n",
    "\n",
    "        # update the 'mover'\n",
    "        self.OU_mover = milshtein_OU_N_2D(rng=self.rng, x0=self.x, tau=self.taus, center=self.centers, g_sqrt=self.g_sqrts, h=self.h, N=self.N)\n",
    "\n",
    "    def move(self, delta_t):\n",
    "        self.x = self.OU_mover(delta_t)\n",
    "        self.periodic_boundary_conditions()\n",
    "\n",
    "    def periodic_boundary_conditions(self):\n",
    "        self.x = self.x % self.env_size\n",
    "\n",
    "    def calc_interaction_pairs(self):\n",
    "        self.positions_tree = KDTree(self.x, compact_nodes=False, balanced_tree=False)\n",
    "        self.possible_interacting_pairs = self.positions_tree.query_pairs(self.interaction_distance, output_type='ndarray')\n",
    "        self.n_interacting_pairs = len(self.possible_interacting_pairs)\n",
    "\n",
    "    def store_data(self):\n",
    "        return {'t': self.t, 'N': self.N}"
   ]
  },
  {
   "cell_type": "code",
   "execution_count": null,
   "metadata": {},
   "outputs": [],
   "source": []
  },
  {
   "cell_type": "code",
   "execution_count": null,
   "metadata": {},
   "outputs": [],
   "source": []
  },
  {
   "cell_type": "code",
   "execution_count": null,
   "metadata": {},
   "outputs": [],
   "source": []
  },
  {
   "cell_type": "code",
   "execution_count": null,
   "metadata": {},
   "outputs": [],
   "source": []
  },
  {
   "cell_type": "code",
   "execution_count": 3,
   "metadata": {},
   "outputs": [],
   "source": [
    "from math import sqrt\n",
    "import numpy as np"
   ]
  },
  {
   "cell_type": "code",
   "execution_count": 2,
   "metadata": {},
   "outputs": [
    {
     "name": "stdout",
     "output_type": "stream",
     "text": [
      "29.2 ns ± 0.14 ns per loop (mean ± std. dev. of 7 runs, 10000000 loops each)\n"
     ]
    }
   ],
   "source": [
    "%%timeit\n",
    "sqrt(3456789.2)"
   ]
  },
  {
   "cell_type": "code",
   "execution_count": 4,
   "metadata": {},
   "outputs": [
    {
     "name": "stdout",
     "output_type": "stream",
     "text": [
      "583 ns ± 8.72 ns per loop (mean ± std. dev. of 7 runs, 1000000 loops each)\n"
     ]
    }
   ],
   "source": [
    "%%timeit\n",
    "np.sqrt(3456789.2)"
   ]
  },
  {
   "cell_type": "code",
   "execution_count": 5,
   "metadata": {},
   "outputs": [],
   "source": [
    "import numpy as np\n",
    "\n",
    "n = 2\n",
    "m = 200\n",
    "# k = 200\n",
    "\n",
    "X = np.random.randn(m,n)\n",
    "# Y = np.random.randn(k,n)"
   ]
  },
  {
   "cell_type": "code",
   "execution_count": 6,
   "metadata": {},
   "outputs": [],
   "source": [
    "import numpy as np\n",
    "from scipy.spatial import KDTree, distance\n",
    "from math import dist as mdist\n",
    "from math import sqrt\n",
    "import cupy as cp\n",
    "\n",
    "def cupy_1(X):\n",
    "    X_gpu = cp.asarray(X)\n",
    "    D = cp.sum((X_gpu[:,None,:] - X_gpu[None,:,:])**2, axis=2)**0.5\n",
    "    return cp.asnumpy(D)\n",
    "\n",
    "def cupy_2(X):\n",
    "    X_gpu = cp.asarray(X)\n",
    "    C = (X_gpu[:,None,:] - X_gpu[None,:,:])\n",
    "    D = (cp.sum(C*C, axis=2))**0.5\n",
    "    return cp.asnumpy(D)\n",
    "\n",
    "def numpy_1(X):\n",
    "    return np.sum((X[:,None,:] - X[None,:,:])**2, axis=2)**0.5\n",
    "\n",
    "def numpy_2(X):\n",
    "    B = (X[:,None,:] - X[None,:,:])\n",
    "    return np.sum(B*B, axis=2)**0.5"
   ]
  },
  {
   "cell_type": "markdown",
   "metadata": {},
   "source": [
    "# Calculate distance between two vectors"
   ]
  },
  {
   "cell_type": "code",
   "execution_count": 7,
   "metadata": {},
   "outputs": [
    {
     "name": "stdout",
     "output_type": "stream",
     "text": [
      "686 µs ± 312 µs per loop (mean ± std. dev. of 7 runs, 1 loop each)\n"
     ]
    }
   ],
   "source": [
    "%%timeit\n",
    "cupy_1(X)"
   ]
  },
  {
   "cell_type": "code",
   "execution_count": 12,
   "metadata": {},
   "outputs": [
    {
     "name": "stdout",
     "output_type": "stream",
     "text": [
      "240 µs ± 3.91 µs per loop (mean ± std. dev. of 7 runs, 1000 loops each)\n"
     ]
    }
   ],
   "source": [
    "%%timeit\n",
    "cupy_2(X)"
   ]
  },
  {
   "cell_type": "code",
   "execution_count": 9,
   "metadata": {},
   "outputs": [
    {
     "name": "stdout",
     "output_type": "stream",
     "text": [
      "871 µs ± 5.48 µs per loop (mean ± std. dev. of 7 runs, 1000 loops each)\n"
     ]
    }
   ],
   "source": [
    "%%timeit\n",
    "numpy_1(X)"
   ]
  },
  {
   "cell_type": "code",
   "execution_count": 10,
   "metadata": {},
   "outputs": [
    {
     "name": "stdout",
     "output_type": "stream",
     "text": [
      "870 µs ± 1.55 µs per loop (mean ± std. dev. of 7 runs, 1000 loops each)\n"
     ]
    }
   ],
   "source": [
    "%%timeit\n",
    "numpy_2(X)"
   ]
  },
  {
   "cell_type": "code",
   "execution_count": 11,
   "metadata": {},
   "outputs": [
    {
     "name": "stdout",
     "output_type": "stream",
     "text": [
      "89.5 µs ± 674 ns per loop (mean ± std. dev. of 7 runs, 10000 loops each)\n"
     ]
    }
   ],
   "source": [
    "%%timeit\n",
    "distance.cdist(X,X)"
   ]
  },
  {
   "cell_type": "markdown",
   "metadata": {},
   "source": [
    "# Return pairs between two vectors"
   ]
  },
  {
   "cell_type": "code",
   "execution_count": 20,
   "metadata": {},
   "outputs": [],
   "source": [
    "def KD(X):\n",
    "    K = KDTree(X, compact_nodes=False, balanced_tree=False)\n",
    "    K.query_pairs(.5)"
   ]
  },
  {
   "cell_type": "code",
   "execution_count": 14,
   "metadata": {},
   "outputs": [
    {
     "name": "stdout",
     "output_type": "stream",
     "text": [
      "23.3 µs ± 215 ns per loop (mean ± std. dev. of 7 runs, 10000 loops each)\n"
     ]
    }
   ],
   "source": [
    "%%timeit\n",
    "KDTree(X, compact_nodes=False, balanced_tree=False)"
   ]
  },
  {
   "cell_type": "code",
   "execution_count": 15,
   "metadata": {},
   "outputs": [],
   "source": [
    "from timeit import Timer\n",
    "import pandas as pd"
   ]
  },
  {
   "cell_type": "code",
   "execution_count": 21,
   "metadata": {},
   "outputs": [
    {
     "data": {
      "text/plain": [
       "(2000, 0.22574613000324462)"
      ]
     },
     "execution_count": 21,
     "metadata": {},
     "output_type": "execute_result"
    }
   ],
   "source": [
    "a = Timer(\"KD(X)\", globals=globals())\n",
    "a.autorange()"
   ]
  },
  {
   "cell_type": "code",
   "execution_count": 28,
   "metadata": {},
   "outputs": [],
   "source": [
    "def timer(X):\n",
    "    a = Timer(\"K = KDTree(X, compact_nodes=False, balanced_tree=False); K.query_pairs(.5)\", globals=globals())\n",
    "    return a.autorange()"
   ]
  },
  {
   "cell_type": "code",
   "execution_count": 29,
   "metadata": {},
   "outputs": [
    {
     "data": {
      "text/plain": [
       "(2000, 0.21892341300554108)"
      ]
     },
     "execution_count": 29,
     "metadata": {},
     "output_type": "execute_result"
    }
   ],
   "source": [
    "timer(X=X)"
   ]
  },
  {
   "cell_type": "code",
   "execution_count": 30,
   "metadata": {},
   "outputs": [],
   "source": [
    "Xs = [np.random.random((n,2)) for n in [int(1e1), int(1e2), int(1e3), int(1e4), int(1e5)]]\n",
    "\n",
    "res = {n: timer(X) for n, X in enumerate(Xs)}\n",
    "# df = pd.DataFrame(res)\n",
    "# df = df.T\n",
    "# df[3] = df[1]/df[0]\n",
    "# ax = df[3].plot()\n",
    "# ax.set_xscale('log')"
   ]
  },
  {
   "cell_type": "code",
   "execution_count": 32,
   "metadata": {},
   "outputs": [],
   "source": [
    "X = np.random.random((100000, 2))\n",
    "timer(X)"
   ]
  },
  {
   "cell_type": "code",
   "execution_count": null,
   "metadata": {},
   "outputs": [],
   "source": [
    "res = {n: timer(n) for n in [int(1e1), int(1e2), int(1e3), int(1e4), int(1e5)]}\n",
    "df = pd.DataFrame(res)\n",
    "df = df.T\n",
    "df[3] = df[1]/df[0]\n",
    "ax = df[3].plot()\n",
    "ax.set_xscale('log')"
   ]
  },
  {
   "cell_type": "code",
   "execution_count": null,
   "metadata": {},
   "outputs": [],
   "source": [
    "timeit(KD)\n",
    "# a = timeit(KD(X))"
   ]
  },
  {
   "cell_type": "code",
   "execution_count": null,
   "metadata": {},
   "outputs": [],
   "source": [
    "%%timeit\n",
    "distance.cdist(X,X)"
   ]
  },
  {
   "cell_type": "code",
   "execution_count": null,
   "metadata": {},
   "outputs": [],
   "source": [
    "%%timeit\n",
    "sqrt(45678.23)"
   ]
  },
  {
   "cell_type": "code",
   "execution_count": null,
   "metadata": {},
   "outputs": [],
   "source": [
    "%%timeit\n",
    "np.sqrt(45678.23)"
   ]
  },
  {
   "cell_type": "code",
   "execution_count": null,
   "metadata": {},
   "outputs": [],
   "source": [
    "%%timeit\n",
    "(45678.23)**.5"
   ]
  },
  {
   "cell_type": "code",
   "execution_count": null,
   "metadata": {},
   "outputs": [],
   "source": []
  },
  {
   "cell_type": "code",
   "execution_count": 12,
   "metadata": {},
   "outputs": [],
   "source": [
    "import numpy as np\n",
    "from scipy.stats import norm\n",
    "import matplotlib.pyplot as plt\n",
    "\n",
    "rng = np.random.default_rng(12341)\n",
    "\n"
   ]
  },
  {
   "cell_type": "code",
   "execution_count": 20,
   "metadata": {},
   "outputs": [
    {
     "data": {
      "text/plain": [
       "[<matplotlib.lines.Line2D at 0x7fd2ea0edac0>]"
      ]
     },
     "execution_count": 20,
     "metadata": {},
     "output_type": "execute_result"
    },
    {
     "data": {
      "image/png": "[encoded data removed]",
      "text/plain": [
       "<Figure size 432x288 with 1 Axes>"
      ]
     },
     "metadata": {
      "needs_background": "light"
     },
     "output_type": "display_data"
    }
   ],
   "source": [
    "xs = np.linspace(0., 10., num=100)\n",
    "\n",
    "y1 = norm.pdf(xs, scale= 2.)\n",
    "y2 = norm.pdf(xs, scale= 5.)\n",
    "\n",
    "ax = plt.gca()\n",
    "\n",
    "ax.plot(xs, y1)\n",
    "ax.plot(xs, y2)"
   ]
  },
  {
   "cell_type": "code",
   "execution_count": null,
   "metadata": {},
   "outputs": [],
   "source": []
  }
 ],
 "metadata": {
  "interpreter": {
   "hash": "47d71ff41237d5df32e863c4829dfb5cd8f8ddfc6e93b76b3c70d8480c140097"
  },
  "kernelspec": {
   "display_name": "Python 3.9.7 ('jl')",
   "language": "python",
   "name": "python3"
  },
  "language_info": {
   "codemirror_mode": {
    "name": "ipython",
    "version": 3
   },
   "file_extension": ".py",
   "mimetype": "text/x-python",
   "name": "python",
   "nbconvert_exporter": "python",
   "pygments_lexer": "ipython3",
   "version": "3.9.7"
  },
  "orig_nbformat": 4
 },
 "nbformat": 4,
 "nbformat_minor": 2
}
